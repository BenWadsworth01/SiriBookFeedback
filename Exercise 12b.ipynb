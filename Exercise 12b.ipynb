{
 "cells": [
  {
   "cell_type": "code",
   "execution_count": 2,
   "id": "4c92005c-05f3-4809-98bf-b693322317ad",
   "metadata": {},
   "outputs": [],
   "source": [
    "import numpy as np\n",
    "import matplotlib.pyplot as plt\n",
    "%matplotlib tk\n",
    "\n",
    "u = np.linspace(0,1)\n",
    "v = np.linspace(0,2*np.pi)\n",
    "\n",
    "U, V = np.meshgrid(u,v)\n",
    "\n",
    "ax = plt.axes(projection = '3d')\n",
    "\n",
    "def r_x(u,v):\n",
    "    return np.cosh(u)*np.cos(v)\n",
    "\n",
    "def r_y(u,v):\n",
    "    return np.cosh(u)*np.sin(v)\n",
    "\n",
    "def r_z(u):\n",
    "    return u\n",
    "\n",
    "def r_u(u):\n",
    "    return (np.cosh(u)*np.cos(v), np.cosh(u)*np.sin(v), u)\n",
    "\n",
    "def r_v(v):\n",
    "    return (np.cosh(u)*np.cos(v), np.cosh(u)*np.sin(v), u)\n",
    "\n",
    "i = 0\n",
    "while i <= 2*np.pi:\n",
    "    if i == 0:\n",
    "        X, Y, Z = r_v(i)\n",
    "        ax.plot(X, Y, Z, color = 'red', label = 'Constant v')\n",
    "        i += np.pi/4\n",
    "    else:\n",
    "        X, Y, Z = r_v(i)\n",
    "        ax.plot(X, Y, Z, color = 'red')\n",
    "        i += np.pi/4\n",
    "        \n",
    "j = 0\n",
    "while j <= 1:\n",
    "    if j == 0:\n",
    "        X, Y, Z = r_u(j)\n",
    "        ax.plot(X, Y, Z, color = 'green', label = 'Constant u')\n",
    "        j += 0.2\n",
    "    else:\n",
    "        X, Y, Z = r_u(j)\n",
    "        ax.plot(X, Y, Z, color = 'green')\n",
    "        j += 0.2\n",
    "\n",
    "ax.plot_surface(r_x(U,V), r_y(U,V), r_z(U), alpha = 0.5)\n",
    "ax.legend()\n",
    "plt.show()"
   ]
  }
 ],
 "metadata": {
  "kernelspec": {
   "display_name": "Python 3 (ipykernel)",
   "language": "python",
   "name": "python3"
  },
  "language_info": {
   "codemirror_mode": {
    "name": "ipython",
    "version": 3
   },
   "file_extension": ".py",
   "mimetype": "text/x-python",
   "name": "python",
   "nbconvert_exporter": "python",
   "pygments_lexer": "ipython3",
   "version": "3.9.13"
  }
 },
 "nbformat": 4,
 "nbformat_minor": 5
}
