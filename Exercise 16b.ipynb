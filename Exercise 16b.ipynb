{
 "cells": [
  {
   "cell_type": "code",
   "execution_count": 2,
   "id": "27e106ba-ceff-4a9a-b979-e17dff279a13",
   "metadata": {},
   "outputs": [],
   "source": [
    "import numpy as np\n",
    "import matplotlib.pyplot as plt\n",
    "%matplotlib tk\n",
    "\n",
    "z = np.linspace(-1,1)\n",
    "\n",
    "def div_z(z):\n",
    "    return 24*z**2 + 8*z\n",
    "\n",
    "plt.xlabel('z')\n",
    "plt.ylabel('Div along z slice')\n",
    "plt.title('Divergence on each z = constant slice')\n",
    "plt.grid('on')\n",
    "\n",
    "plt.plot(z, div_z(z))\n",
    "plt.show()"
   ]
  },
  {
   "cell_type": "code",
   "execution_count": null,
   "id": "b023a5ea-aa19-4c6d-bf09-2e88edf83a11",
   "metadata": {},
   "outputs": [],
   "source": []
  }
 ],
 "metadata": {
  "kernelspec": {
   "display_name": "Python 3 (ipykernel)",
   "language": "python",
   "name": "python3"
  },
  "language_info": {
   "codemirror_mode": {
    "name": "ipython",
    "version": 3
   },
   "file_extension": ".py",
   "mimetype": "text/x-python",
   "name": "python",
   "nbconvert_exporter": "python",
   "pygments_lexer": "ipython3",
   "version": "3.9.13"
  }
 },
 "nbformat": 4,
 "nbformat_minor": 5
}
