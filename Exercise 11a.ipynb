{
 "cells": [
  {
   "cell_type": "code",
   "execution_count": 23,
   "id": "b74d22ab-9ec8-4974-9385-bd8fe18944c1",
   "metadata": {},
   "outputs": [],
   "source": [
    "import numpy as np\n",
    "import matplotlib.pyplot as plt\n",
    "from matplotlib.widgets import Slider\n",
    "%matplotlib tk\n",
    "\n",
    "def zfunc(r,a):\n",
    "    return np.sqrt(r**2 - a)\n",
    "\n",
    "def data(a):\n",
    "    theta = np.linspace(0,2*np.pi)\n",
    "    if (a==0):\n",
    "        z = np.linspace(0,2)\n",
    "        Z, tc = np.meshgrid(z,theta)\n",
    "        rc = z\n",
    "    elif (a>0):\n",
    "        r = np.linspace(np.sqrt(a)+0.000001,2) #needed the +0.000001 to fix some weird glitches\n",
    "        rc, tc = np.meshgrid(r, theta)\n",
    "        Z = zfunc(rc,a)  \n",
    "    else:\n",
    "        r = np.linspace(0,2)\n",
    "        rc, tc = np.meshgrid(r, theta)\n",
    "        Z = zfunc(rc,a)  \n",
    "    X = rc*np.cos(tc)\n",
    "    Y = rc*np.sin(tc)\n",
    "    return X, Y, Z\n",
    "\n",
    "fig = plt.figure()\n",
    "plt.subplots_adjust(bottom=0.15)                \n",
    "\n",
    "ax = fig.add_subplot(projection='3d') \n",
    "ax.set_box_aspect((1,1,1)) \n",
    "\n",
    "def plotfig(a):\n",
    "    X, Y, Z = data(a)\n",
    "    ax.clear()\n",
    "    P1 = ax.plot_surface(X,Y, Z, alpha=0.5)\n",
    "    P2 = ax.plot_surface(X,Y,-Z, alpha=0.5)\n",
    "    ax.set_xlim(-2,2)\n",
    "    ax.set_ylim(-2,2)\n",
    "    ax.set_zlim(-2,2)\n",
    "    return P1, P2\n",
    "\n",
    "a = -2\n",
    "\n",
    "axa = plt.axes([0.3, 0.05, 0.45, 0.02])\n",
    "a_slide = Slider(axa, 'a', -2, 2,\n",
    "           valstep = 0.05, valinit = a)\n",
    "\n",
    "plotfig(a)\n",
    "\n",
    "def update(val): \n",
    "    a = a_slide.val \n",
    "    plotfig(a)\n",
    "    \n",
    "a_slide.on_changed(update)\n",
    "plt.show()"
   ]
  },
  {
   "cell_type": "code",
   "execution_count": null,
   "id": "1ec5f804-1e21-42e5-a089-1fac6bb4baef",
   "metadata": {},
   "outputs": [],
   "source": []
  }
 ],
 "metadata": {
  "kernelspec": {
   "display_name": "Python 3 (ipykernel)",
   "language": "python",
   "name": "python3"
  },
  "language_info": {
   "codemirror_mode": {
    "name": "ipython",
    "version": 3
   },
   "file_extension": ".py",
   "mimetype": "text/x-python",
   "name": "python",
   "nbconvert_exporter": "python",
   "pygments_lexer": "ipython3",
   "version": "3.9.13"
  }
 },
 "nbformat": 4,
 "nbformat_minor": 5
}
