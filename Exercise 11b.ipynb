{
 "cells": [
  {
   "cell_type": "code",
   "execution_count": 14,
   "id": "b74d22ab-9ec8-4974-9385-bd8fe18944c1",
   "metadata": {},
   "outputs": [],
   "source": [
    "import numpy as np\n",
    "import matplotlib.pyplot as plt\n",
    "from matplotlib.widgets import Slider\n",
    "%matplotlib tk\n",
    "\n",
    "def zfunc(x,y,a):\n",
    "    return x**2 + a*(y**2)\n",
    "\n",
    "x = np.linspace(-1.5,1.5)\n",
    "y = np.linspace(-1.5,1.5)\n",
    "X, Y = np.meshgrid(x,y)\n",
    "\n",
    "def data(a):\n",
    "    if (a==0):\n",
    "        Z = X**2\n",
    "    elif (a>0):\n",
    "        Z = zfunc(X,Y,a)\n",
    "    else:\n",
    "        Z = zfunc(X,Y,a)\n",
    "    return Z\n",
    "\n",
    "fig = plt.figure()\n",
    "plt.subplots_adjust(bottom=0.15)                \n",
    "\n",
    "ax = fig.add_subplot(projection='3d') \n",
    "ax.set_box_aspect((1,1,1)) \n",
    "\n",
    "def plotfig(a):\n",
    "    Z = data(a)\n",
    "    ax.clear()\n",
    "    P1 = ax.plot_surface(X,Y, Z, alpha=0.75)\n",
    "    ax.set_xlim(-2,2)\n",
    "    ax.set_ylim(-2,2)\n",
    "    ax.set_zlim(-2,2)\n",
    "    return P1\n",
    "\n",
    "a = -2\n",
    "\n",
    "axa = plt.axes([0.3, 0.05, 0.45, 0.02])\n",
    "a_slide = Slider(axa, 'a', -2, 2,\n",
    "           valstep = 0.05, valinit = a)\n",
    "\n",
    "plotfig(a)\n",
    "\n",
    "def update(val): \n",
    "    a = a_slide.val \n",
    "    plotfig(a)\n",
    "    \n",
    "a_slide.on_changed(update)\n",
    "plt.show()"
   ]
  },
  {
   "cell_type": "code",
   "execution_count": null,
   "id": "a354dca5-5573-41a2-91e3-a90d11cd4e18",
   "metadata": {},
   "outputs": [],
   "source": []
  }
 ],
 "metadata": {
  "kernelspec": {
   "display_name": "Python 3 (ipykernel)",
   "language": "python",
   "name": "python3"
  },
  "language_info": {
   "codemirror_mode": {
    "name": "ipython",
    "version": 3
   },
   "file_extension": ".py",
   "mimetype": "text/x-python",
   "name": "python",
   "nbconvert_exporter": "python",
   "pygments_lexer": "ipython3",
   "version": "3.9.13"
  }
 },
 "nbformat": 4,
 "nbformat_minor": 5
}
