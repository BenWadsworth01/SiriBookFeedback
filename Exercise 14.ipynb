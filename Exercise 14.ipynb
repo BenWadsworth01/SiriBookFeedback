{
 "cells": [
  {
   "cell_type": "code",
   "execution_count": 4,
   "id": "a0fb4d2f-da93-4473-b229-34e5fc1fe43b",
   "metadata": {},
   "outputs": [],
   "source": [
    "import numpy as np\n",
    "import matplotlib.pyplot as plt\n",
    "from matplotlib.widgets import Slider\n",
    "%matplotlib tk\n",
    "\n",
    "u = np.linspace(-1/2,1/2)\n",
    "v = np.linspace(0,2*np.pi)\n",
    "\n",
    "U, V = np.meshgrid(u,v)\n",
    "\n",
    "fig = plt.figure()\n",
    "ax = plt.axes(projection = '3d')\n",
    "\n",
    "def s_x(u,v):\n",
    "    return (1 - u*np.sin(v/2))*np.cos(v)\n",
    "\n",
    "def s_y(u,v):\n",
    "    return (1 - u*np.sin(v/2))*np.sin(v)\n",
    "\n",
    "def s_z(u,v):\n",
    "    return u*np.cos(v/2)\n",
    "\n",
    "def N(t):\n",
    "    return np.array([np.cos(t/2)*np.cos(t), np.cos(t/2)*np.sin(t), np.sin(t/2)])\n",
    "\n",
    "ax.set_xlim(-1.5,1.5)\n",
    "ax.set_ylim(-1.5,1.5)\n",
    "ax.set_zlim(-1,1)\n",
    "ax.plot_surface(s_x(U,V), s_y(U,V), s_z(U,V), alpha = 0.7)\n",
    "ax.plot(np.cos(v), np.sin(v), 0, color = 'red')\n",
    "\n",
    "t = 0\n",
    "\n",
    "norm = ax.quiver(np.cos(t), np.sin(t), 0, N(t)[0], N(t)[1], N(t)[2], length = 1, color = 'green')\n",
    "\n",
    "axt = plt.axes([0.2, 0.03, 0.5, 0.02])\n",
    "t_slide = Slider(axt, 't', 0, 4*np.pi, valstep=0.001, valinit=t)\n",
    "\n",
    "def update(val):\n",
    "    t = t_slide.val\n",
    "    ax.clear()\n",
    "    ax.set_xlim(-1.5,1.5)\n",
    "    ax.set_ylim(-1.5,1.5)\n",
    "    ax.set_zlim(-1,1)\n",
    "    ax.plot_surface(s_x(U,V), s_y(U,V), s_z(U,V), alpha = 0.7)\n",
    "    ax.plot(np.cos(v), np.sin(v), 0, color = 'red')\n",
    "    norm = ax.quiver(np.cos(t), np.sin(t), 0, N(t)[0], N(t)[1], N(t)[2], length = 1, color = 'green')\n",
    "    fig.canvas.draw_idle()\n",
    "\n",
    "t_slide.on_changed(update)\n",
    "\n",
    "plt.show()"
   ]
  },
  {
   "cell_type": "code",
   "execution_count": null,
   "id": "a611969f-00a6-4290-bae6-fb145ee7b3b8",
   "metadata": {},
   "outputs": [],
   "source": []
  }
 ],
 "metadata": {
  "kernelspec": {
   "display_name": "Python 3 (ipykernel)",
   "language": "python",
   "name": "python3"
  },
  "language_info": {
   "codemirror_mode": {
    "name": "ipython",
    "version": 3
   },
   "file_extension": ".py",
   "mimetype": "text/x-python",
   "name": "python",
   "nbconvert_exporter": "python",
   "pygments_lexer": "ipython3",
   "version": "3.9.13"
  }
 },
 "nbformat": 4,
 "nbformat_minor": 5
}
