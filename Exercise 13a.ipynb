{
 "cells": [
  {
   "cell_type": "code",
   "execution_count": 2,
   "id": "a0fb4d2f-da93-4473-b229-34e5fc1fe43b",
   "metadata": {},
   "outputs": [],
   "source": [
    "import numpy as np\n",
    "import matplotlib.pyplot as plt\n",
    "%matplotlib tk\n",
    "\n",
    "u = np.linspace(0,1)\n",
    "v = np.linspace(0,2*np.pi)\n",
    "\n",
    "U, V = np.meshgrid(u,v)\n",
    "\n",
    "ax = plt.axes(projection = '3d')\n",
    "\n",
    "def r_x(u,v):\n",
    "    return (1 - np.cos(u))*np.cos(v)\n",
    "\n",
    "def r_y(u,v):\n",
    "    return (1 - np.cos(u))*np.sin(v)\n",
    "\n",
    "def r_z(u):\n",
    "    return u - np.sin(u)\n",
    "\n",
    "ax.plot_surface(r_x(U,V), r_y(U,V), r_z(U), alpha = 0.5)\n",
    "plt.show()"
   ]
  },
  {
   "cell_type": "code",
   "execution_count": null,
   "id": "a611969f-00a6-4290-bae6-fb145ee7b3b8",
   "metadata": {},
   "outputs": [],
   "source": []
  }
 ],
 "metadata": {
  "kernelspec": {
   "display_name": "Python 3 (ipykernel)",
   "language": "python",
   "name": "python3"
  },
  "language_info": {
   "codemirror_mode": {
    "name": "ipython",
    "version": 3
   },
   "file_extension": ".py",
   "mimetype": "text/x-python",
   "name": "python",
   "nbconvert_exporter": "python",
   "pygments_lexer": "ipython3",
   "version": "3.9.13"
  }
 },
 "nbformat": 4,
 "nbformat_minor": 5
}
