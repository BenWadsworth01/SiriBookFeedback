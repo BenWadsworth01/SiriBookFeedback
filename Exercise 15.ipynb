{
 "cells": [
  {
   "cell_type": "code",
   "execution_count": 27,
   "id": "a91aeae7-e25d-4870-837e-6fc7e3e0ee31",
   "metadata": {},
   "outputs": [],
   "source": [
    "import numpy as np\n",
    "import matplotlib.pyplot as plt\n",
    "import matplotlib.gridspec as gridspec\n",
    "%matplotlib tk\n",
    "\n",
    "def F(x, y):\n",
    "    return 1 - x**3 - y**2\n",
    "\n",
    "def Plane(x, y):\n",
    "    return 3 - 3*x\n",
    "\n",
    "x = np.linspace(-1.5,1.5)\n",
    "y = np.linspace(-1.5,1.5)\n",
    "x_p = np.linspace(-2,2)\n",
    "y_p = np.linspace(-2,2)\n",
    "X, Y = np.meshgrid(x, y)\n",
    "X_p, Y_p = np.meshgrid(x_p, y_p)\n",
    "Z = F(X, Y)\n",
    "\n",
    "N = np.array([3,0,1])/np.sqrt(10)\n",
    "\n",
    "fig = plt.figure()\n",
    "gs = gridspec.GridSpec(1, 2, \n",
    "       width_ratios=[1.5,1])\n",
    "\n",
    "ax1 = fig.add_subplot(gs[0], \n",
    "            projection='3d')\n",
    "ax1.set_box_aspect((1,1,1))\n",
    "ax1.plot_surface(X,Y, Z, alpha=0.7,\n",
    "            rstride=5, cstride=5,\n",
    "            edgecolor='k',\n",
    "            cmap='viridis')\n",
    "ax1.plot_surface(X_p,Y_p,Plane(X_p,Y_p), color = 'purple', alpha = 0.6)\n",
    "ax1.plot(1,0,0, 'or')\n",
    "ax1.quiver(1,0,0,N[0],N[1],N[2], \n",
    "            length=1, color='r')\n",
    "ax1.set_xlim(-2,2)\n",
    "ax1.set_ylim(-2,2)\n",
    "ax1.set_zlim(-2,2)\n",
    "\n",
    "ax2 = fig.add_subplot(gs[1])\n",
    "p = ax2.contour(X, Y, Z, 20)\n",
    "fig.colorbar(p, shrink = 0.4)\n",
    "ax2.plot(0,0, 'or')\n",
    "ax2.quiver(0,0, N[0],N[1], color='r',\n",
    "           scale_units='xy', scale=1)\n",
    "ax2.set_aspect('equal')\n",
    "ax2.set_title('Projection onto z=0')\n",
    "\n",
    "fig.tight_layout()\n",
    "plt.show()"
   ]
  },
  {
   "cell_type": "code",
   "execution_count": null,
   "id": "d5f3b8a3-293e-40bf-b13c-8bc85b959473",
   "metadata": {},
   "outputs": [],
   "source": []
  }
 ],
 "metadata": {
  "kernelspec": {
   "display_name": "Python 3 (ipykernel)",
   "language": "python",
   "name": "python3"
  },
  "language_info": {
   "codemirror_mode": {
    "name": "ipython",
    "version": 3
   },
   "file_extension": ".py",
   "mimetype": "text/x-python",
   "name": "python",
   "nbconvert_exporter": "python",
   "pygments_lexer": "ipython3",
   "version": "3.9.13"
  }
 },
 "nbformat": 4,
 "nbformat_minor": 5
}
