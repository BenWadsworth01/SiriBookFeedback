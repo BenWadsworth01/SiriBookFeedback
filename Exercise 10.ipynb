{
 "cells": [
  {
   "cell_type": "code",
   "execution_count": 13,
   "id": "dfb58276-79c9-408e-8fd1-d025ee936307",
   "metadata": {
    "tags": []
   },
   "outputs": [],
   "source": [
    "import numpy as np\n",
    "import matplotlib.pyplot as plt\n",
    "from matplotlib.widgets import Slider\n",
    "%matplotlib tk\n",
    "\n",
    "theta = np.linspace(0, 2*np.pi,1000)\n",
    "\n",
    "r_x = lambda t: t\n",
    "r_y = lambda t: t**3 - t\n",
    "\n",
    "kappa = lambda t: (6*t)/((9*(t**4) - 6*(t**2) + 2)**(3/2))\n",
    "\n",
    "c_x = lambda t: (1/(kappa(t)))*(np.cos(theta)) + t - ((1 + (3*(t**2) - 1)**2)*(3*(t**2) - 1))/(6*t)\n",
    "c_y = lambda t: (1/kappa(t))*(np.sin(theta)) + t**3 - t + (1 + (3*(t**2) - 1)**2)/(6*t)\n",
    "\n",
    "t = -2\n",
    "\n",
    "fig = plt.figure(figsize = (8,6))\n",
    "ax = plt.axes()\n",
    "plt.subplots_adjust(bottom=0.2)\n",
    "ax.set_xlim(-2.5,2.5)\n",
    "ax.set_ylim(-2.5,2.5)\n",
    "ax.grid('on')\n",
    "ax.set_aspect('equal')\n",
    "\n",
    "t_full = np.linspace(-2,2)\n",
    "\n",
    "r = ax.plot(r_x(t_full), r_y(t_full))\n",
    "c, = ax.plot(c_x(t), c_y(t))\n",
    "p, = ax.plot(r_x(t), r_y(t), 'ro')\n",
    "\n",
    "axt = plt.axes([0.25, 0.1, 0.5, 0.02])\n",
    "t_slide = Slider(axt, 't', -2, 2, valstep=0.001, valinit=t)\n",
    "\n",
    "def update(val):\n",
    "    t = t_slide.val\n",
    "    T = np.linspace(-2,t,200)\n",
    "    \n",
    "    p.set_data([r_x(t)], [r_y(t)])\n",
    "    \n",
    "    if t == 0:\n",
    "        c.set_data([c_x(t + 0.0001)], [c_y(t + 0.0001)])\n",
    "    else:\n",
    "        c.set_data([c_x(t)], [c_y(t)])\n",
    "        \n",
    "    fig.canvas.draw_idle()\n",
    "\n",
    "t_slide.on_changed(update)\n",
    "\n",
    "plt.show()"
   ]
  },
  {
   "cell_type": "code",
   "execution_count": null,
   "id": "89f731cc-50d7-490e-8499-bc7a4b6c8f69",
   "metadata": {},
   "outputs": [],
   "source": []
  }
 ],
 "metadata": {
  "kernelspec": {
   "display_name": "Python 3 (ipykernel)",
   "language": "python",
   "name": "python3"
  },
  "language_info": {
   "codemirror_mode": {
    "name": "ipython",
    "version": 3
   },
   "file_extension": ".py",
   "mimetype": "text/x-python",
   "name": "python",
   "nbconvert_exporter": "python",
   "pygments_lexer": "ipython3",
   "version": "3.11.3"
  }
 },
 "nbformat": 4,
 "nbformat_minor": 5
}
